{
 "cells": [
  {
   "cell_type": "code",
   "execution_count": 16,
   "metadata": {},
   "outputs": [
    {
     "name": "stdout",
     "output_type": "stream",
     "text": [
      "['TYPE' 'YEAR' 'MONTH' 'DAY' 'HOUR' 'MINUTE' 'HUNDRED_BLOCK'\n",
      " 'NEIGHBOURHOOD' 'X' 'Y' 'Latitude' 'Longitude']\n",
      "['locationID' 'address' 'averageHHIncome' 'cityID' 'cityName' 'latitude'\n",
      " 'longitude' 'neighbourhood' 'population' 'povertyRate' 'unemploymentRate'\n",
      " 'x' 'y']\n"
     ]
    }
   ],
   "source": [
    "import pandas as pd\n",
    "import numpy as np\n",
    "#Vancouver Data\n",
    "#Vancouver\n",
    "van = pd.read_csv(\"crimeVan.csv\", encoding=\"UTF-8\")\n",
    "loc = pd.read_csv(\"LocationDimension.csv\", encoding=\"UTF-8\")\n",
    "print(van.columns.values)\n",
    "print(loc.columns.values)\n",
    "\n",
    "vlocKeys = pd.DataFrame(columns=['key'])\n",
    "\n",
    "#For each record in Vancouver Crime Dataset, Map to a location and create dataframe\n",
    "for i in range(len(van)):\n",
    "#for i in range(500):\n",
    "    vx = van['X'][i]\n",
    "    vy = van['Y'][i]\n",
    "    vadd = van['HUNDRED_BLOCK'][i]\n",
    "    if vadd == 'OFFSET TO PROTECT':\n",
    "        vadd = 'NOT GIVEN'\n",
    "    vloc = loc.loc[((loc['x'] == vx) & (loc['y'] == vy)) & (loc['address'] == vadd)]\n",
    "    if len(vloc) == 0:\n",
    "        vloc = loc.loc[((loc['x'] == vx) & (loc['y'] == vy)) | (loc['address'] == vadd)]\n",
    "    j = vloc['locationID'].iloc[0]\n",
    "    vlocKeys.loc[i] = j\n",
    "\n",
    "#Denver Data\n",
    "#Denver\n",
    "den = pd.read_csv(\"crimeDen.csv\", encoding=\"UTF-8\")\n",
    "print(den.columns.values)\n",
    "print(loc.columns.values)\n",
    "\n",
    "dlocKeys = pd.DataFrame(columns=['key'])\n",
    "\n",
    "#For each record in Denver Crime Dataset, Map to a location and create dataframe\n",
    "for i in range(len(den)):\n",
    "#for i in range(500):\n",
    "    dx = den['GEO_X'][i]\n",
    "    dy = den['GEO_Y'][i]\n",
    "    dadd = den['INCIDENT_ADDRESS'][i]\n",
    "    if ((dadd == 'OFFSET TO PROTECT')):\n",
    "        dadd = 'NOT GIVEN'\n",
    "    if(type(dadd) is not str):\n",
    "        dadd = 'NOT GIVEN'\n",
    "    if(np.isnan(dx)):\n",
    "        dx=0\n",
    "    if(np.isnan(dy)):\n",
    "        dy=0\n",
    "    dloc = loc.loc[(loc['cityID']==2)&((loc['x'] == dx) & (loc['y'] == dy)) & (loc['address'] == dadd)]\n",
    "    if len(dloc) == 0:\n",
    "        dloc = loc.loc[(loc['cityID']==2)&((loc['x'] == dx) & (loc['y'] == dy)) | (loc['address'] == dadd)]\n",
    "    j = dloc['locationID'].iloc[0]\n",
    "    dlocKeys.loc[i] = j\n",
    "\n",
    "#merge Vancouver and Denver Fact Dataframes\n",
    "locationFactTable = vlocKeys.append(dlocKeys)\n",
    "\n",
    "#Export dataframe as csv\n",
    "locationFactTable.to_csv('locationFactTable.csv', header=True, encoding='utf-8')\n"
   ]
  }
 ],
 "metadata": {
  "kernelspec": {
   "display_name": "Python 3",
   "language": "python",
   "name": "python3"
  },
  "language_info": {
   "codemirror_mode": {
    "name": "ipython",
    "version": 3
   },
   "file_extension": ".py",
   "mimetype": "text/x-python",
   "name": "python",
   "nbconvert_exporter": "python",
   "pygments_lexer": "ipython3",
   "version": "3.7.3"
  }
 },
 "nbformat": 4,
 "nbformat_minor": 2
}
