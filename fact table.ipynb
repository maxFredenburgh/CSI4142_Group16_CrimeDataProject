{
 "cells": [
  {
   "cell_type": "code",
   "execution_count": 1,
   "metadata": {},
   "outputs": [
    {
     "name": "stdout",
     "output_type": "stream",
     "text": [
      "   locationKey  cityID   cityName           address   latitude   longitude  \\\n",
      "0            0       1  VANCOUVER  9XX TERMINAL AVE  49.269802 -123.083763   \n",
      "1            1       1  VANCOUVER    11XX KEEFER ST  49.279164 -123.081230   \n",
      "2            2       1  VANCOUVER    11XX KEEFER ST  49.279082 -123.081230   \n",
      "3            3       1  VANCOUVER    11XX KEEFER ST  49.279082 -123.080649   \n",
      "4            4       1  VANCOUVER   11XX WILLIAM ST  49.274034 -123.080022   \n",
      "\n",
      "  neighbourhood  population  averageHHIncome  unemploymentRate  povertyRate  \n",
      "0    Strathcona       12585            31534               8.5          0.0  \n",
      "1    Strathcona       12585            31534               8.5          0.0  \n",
      "2    Strathcona       12585            31534               8.5          0.0  \n",
      "3    Strathcona       12585            31534               8.5          0.0  \n",
      "4    Strathcona       12585            31534               8.5          0.0  \n",
      "   INCIDENT_ID         OFFENSE_ID  OFFENSE_CODE  OFFENSE_CODE_EXTENSION  \\\n",
      "0   2016376978   2016376978521300          5213                       0   \n",
      "1  20186000994  20186000994239900          2399                       0   \n",
      "2  20166003953  20166003953230500          2305                       0   \n",
      "3    201872333    201872333239900          2399                       0   \n",
      "4   2017411405   2017411405230300          2303                       0   \n",
      "\n",
      "                OFFENSE_TYPE_ID       OFFENSE_CATEGORY_ID  \\\n",
      "0  weapon-unlawful-discharge-of          all-other-crimes   \n",
      "1                   theft-other                   larceny   \n",
      "2      theft-items-from-vehicle  theft-from-motor-vehicle   \n",
      "3                   theft-other                   larceny   \n",
      "4                theft-shoplift                   larceny   \n",
      "\n",
      "    FIRST_OCCURRENCE_DATE   LAST_OCCURRENCE_DATE          REPORTED_DATE  \\\n",
      "0   6/15/2016 11:31:00 PM                    NaN  6/15/2016 11:31:00 PM   \n",
      "1  10/11/2017 12:30:00 PM  10/11/2017 4:55:00 PM   1/29/2018 5:53:00 PM   \n",
      "2     3/4/2016 8:00:00 PM   4/25/2016 8:00:00 AM   4/26/2016 9:02:00 PM   \n",
      "3    1/30/2018 7:20:00 PM                    NaN  1/30/2018 10:29:00 PM   \n",
      "4    6/22/2017 8:53:00 PM                    NaN   6/23/2017 4:09:00 PM   \n",
      "\n",
      "      INCIDENT_ADDRESS      GEO_X      GEO_Y     GEO_LON    GEO_LAT  \\\n",
      "0                  NaN  3193983.0  1707251.0 -104.809881  39.773188   \n",
      "1                  NaN  3201943.0  1711852.0 -104.781434  39.785649   \n",
      "2  2932 S JOSEPHINE ST  3152762.0  1667011.0 -104.957381  39.663490   \n",
      "3  705 S COLORADO BLVD  3157162.0  1681320.0 -104.941440  39.702698   \n",
      "4       2810 E 1ST AVE  3153211.0  1686545.0 -104.955370  39.717107   \n",
      "\n",
      "   DISTRICT_ID  PRECINCT_ID             NEIGHBORHOOD_ID  IS_CRIME  IS_TRAFFIC  \n",
      "0            5          521                   montbello         1           0  \n",
      "1            5          522  gateway-green-valley-ranch         1           0  \n",
      "2            3          314                   wellshire         1           0  \n",
      "3            3          312                     belcaro         1           0  \n",
      "4            3          311                cherry-creek         1           0  \n",
      "          TYPE  YEAR  MONTH  DAY  HOUR  MINUTE     HUNDRED_BLOCK  \\\n",
      "0  Other Theft  2003      5   12  16.0    15.0  9XX TERMINAL AVE   \n",
      "1  Other Theft  2003      5    7  15.0    20.0  9XX TERMINAL AVE   \n",
      "2  Other Theft  2003      4   23  16.0    40.0  9XX TERMINAL AVE   \n",
      "3  Other Theft  2003      4   20  11.0    15.0  9XX TERMINAL AVE   \n",
      "4  Other Theft  2003      4   12  17.0    45.0  9XX TERMINAL AVE   \n",
      "\n",
      "  NEIGHBOURHOOD         X           Y   Latitude   Longitude  \n",
      "0    Strathcona  493906.5  5457452.47  49.269802 -123.083763  \n",
      "1    Strathcona  493906.5  5457452.47  49.269802 -123.083763  \n",
      "2    Strathcona  493906.5  5457452.47  49.269802 -123.083763  \n",
      "3    Strathcona  493906.5  5457452.47  49.269802 -123.083763  \n",
      "4    Strathcona  493906.5  5457452.47  49.269802 -123.083763  \n"
     ]
    }
   ],
   "source": [
    "import pandas as pd\n",
    "\n",
    "loc = pd.read_csv('LocationDimension.csv')\n",
    "denc = pd.read_csv('denver_crime.csv')\n",
    "vanc = pd.read_csv('van_crime.csv')\n",
    "print(loc.head())\n",
    "print(denc.head())\n",
    "print(vanc.head())"
   ]
  },
  {
   "cell_type": "code",
   "execution_count": 2,
   "metadata": {},
   "outputs": [
    {
     "name": "stdout",
     "output_type": "stream",
     "text": [
      "False\n",
      "city-park-west\n",
      "-104.961928\n",
      "39.743149\n",
      "2100 BLOCK E 17TH AVE\n"
     ]
    }
   ],
   "source": [
    "lon = denc['GEO_LON'][5]\n",
    "lat = denc['GEO_LAT'][5]\n",
    "add = denc['INCIDENT_ADDRESS'][5]\n",
    "n = denc['NEIGHBORHOOD_ID'][5]\n",
    "print(pd.isnull(add))\n",
    "print(n)\n",
    "print(round(lon, 6))\n",
    "print(round(lat, 6))\n",
    "print(add)\n",
    "lo = -104.9922913\n",
    "la = 39.7597336\n",
    "dloc = loc.loc[(loc['longitude'] == lo) | (loc['latitude'] == la) | (loc['address'] == '2424 DELGANY ST')]"
   ]
  },
  {
   "cell_type": "code",
   "execution_count": 3,
   "metadata": {},
   "outputs": [
    {
     "data": {
      "text/html": [
       "<div>\n",
       "<style scoped>\n",
       "    .dataframe tbody tr th:only-of-type {\n",
       "        vertical-align: middle;\n",
       "    }\n",
       "\n",
       "    .dataframe tbody tr th {\n",
       "        vertical-align: top;\n",
       "    }\n",
       "\n",
       "    .dataframe thead th {\n",
       "        text-align: right;\n",
       "    }\n",
       "</style>\n",
       "<table border=\"1\" class=\"dataframe\">\n",
       "  <thead>\n",
       "    <tr style=\"text-align: right;\">\n",
       "      <th></th>\n",
       "      <th>locationKey</th>\n",
       "      <th>cityID</th>\n",
       "      <th>cityName</th>\n",
       "      <th>address</th>\n",
       "      <th>latitude</th>\n",
       "      <th>longitude</th>\n",
       "      <th>neighbourhood</th>\n",
       "      <th>population</th>\n",
       "      <th>averageHHIncome</th>\n",
       "      <th>unemploymentRate</th>\n",
       "      <th>povertyRate</th>\n",
       "    </tr>\n",
       "  </thead>\n",
       "  <tbody>\n",
       "    <tr>\n",
       "      <td>143221</td>\n",
       "      <td>143221</td>\n",
       "      <td>2</td>\n",
       "      <td>DENVER</td>\n",
       "      <td>2424 DELGANY ST</td>\n",
       "      <td>39.759734</td>\n",
       "      <td>-104.992291</td>\n",
       "      <td>five-points</td>\n",
       "      <td>16312</td>\n",
       "      <td>63316</td>\n",
       "      <td>0.0</td>\n",
       "      <td>22.233333</td>\n",
       "    </tr>\n",
       "  </tbody>\n",
       "</table>\n",
       "</div>"
      ],
      "text/plain": [
       "        locationKey  cityID cityName          address   latitude   longitude  \\\n",
       "143221       143221       2   DENVER  2424 DELGANY ST  39.759734 -104.992291   \n",
       "\n",
       "       neighbourhood  population  averageHHIncome  unemploymentRate  \\\n",
       "143221   five-points       16312            63316               0.0   \n",
       "\n",
       "        povertyRate  \n",
       "143221    22.233333  "
      ]
     },
     "execution_count": 3,
     "metadata": {},
     "output_type": "execute_result"
    }
   ],
   "source": [
    "dloc"
   ]
  },
  {
   "cell_type": "code",
   "execution_count": 4,
   "metadata": {},
   "outputs": [
    {
     "name": "stdout",
     "output_type": "stream",
     "text": [
      "1\n",
      "143221\n"
     ]
    }
   ],
   "source": [
    "print(len(dloc))\n",
    "i = dloc['locationKey'].iloc[0]\n",
    "print(i)"
   ]
  },
  {
   "cell_type": "code",
   "execution_count": 15,
   "metadata": {},
   "outputs": [],
   "source": [
    "locKeys = pd.DataFrame(columns=['key'])\n",
    "\n",
    "for i in range(500):\n",
    "    dlon = denc['GEO_LON'][i]\n",
    "    dlat = denc['GEO_LAT'][i]\n",
    "    dadd = denc['INCIDENT_ADDRESS'][i]\n",
    "    if pd.isnull(dlon) | pd.isnull(dlat):\n",
    "        locKeys.loc[i] = -1\n",
    "        continue\n",
    "    if pd.isnull(dadd):\n",
    "        dadd = 'NOT GIVEN'\n",
    "    dloc = loc.loc[((loc['longitude'] == dlon) | (loc['latitude'] == dlat)) & (loc['address'] == dadd)]\n",
    "    if len(dloc) == 0:\n",
    "        dloc = loc.loc[((loc['longitude'] == dlon) & (loc['latitude'] == dlat)) | (loc['address'] == dadd)]\n",
    "    k = dloc['locationKey'].iloc[0]\n",
    "    locKeys.loc[i] = k\n",
    "    \n",
    "    "
   ]
  },
  {
   "cell_type": "code",
   "execution_count": 16,
   "metadata": {},
   "outputs": [
    {
     "data": {
      "text/plain": [
       "-1         8\n",
       " 198410    3\n",
       " 106134    3\n",
       " 125188    3\n",
       " 143231    3\n",
       "          ..\n",
       " 162459    1\n",
       " 162460    1\n",
       " 106141    1\n",
       " 106142    1\n",
       " 148017    1\n",
       "Name: key, Length: 455, dtype: int64"
      ]
     },
     "execution_count": 16,
     "metadata": {},
     "output_type": "execute_result"
    }
   ],
   "source": [
    "locKeys['key'].value_counts()"
   ]
  },
  {
   "cell_type": "code",
   "execution_count": 22,
   "metadata": {},
   "outputs": [
    {
     "name": "stdout",
     "output_type": "stream",
     "text": [
      "   Unnamed: 0  dayOfWeek  dayOfMonth  month  year  isWeekend   timestamp  \\\n",
      "0           0          3           1      1  2003          0  2003-01-01   \n",
      "1           1          4           2      1  2003          0  2003-01-02   \n",
      "2           2          5           3      1  2003          0  2003-01-03   \n",
      "3           3          6           4      1  2003          1  2003-01-04   \n",
      "4           4          7           5      1  2003          1  2003-01-05   \n",
      "\n",
      "   isHolidayCA  isHolidayUS  \n",
      "0            1            1  \n",
      "1            0            0  \n",
      "2            0            0  \n",
      "3            0            0  \n",
      "4            0            0  \n",
      "   INCIDENT_ID         OFFENSE_ID  OFFENSE_CODE  OFFENSE_CODE_EXTENSION  \\\n",
      "0   2016376978   2016376978521300          5213                       0   \n",
      "1  20186000994  20186000994239900          2399                       0   \n",
      "2  20166003953  20166003953230500          2305                       0   \n",
      "3    201872333    201872333239900          2399                       0   \n",
      "4   2017411405   2017411405230300          2303                       0   \n",
      "\n",
      "                OFFENSE_TYPE_ID       OFFENSE_CATEGORY_ID  \\\n",
      "0  weapon-unlawful-discharge-of          all-other-crimes   \n",
      "1                   theft-other                   larceny   \n",
      "2      theft-items-from-vehicle  theft-from-motor-vehicle   \n",
      "3                   theft-other                   larceny   \n",
      "4                theft-shoplift                   larceny   \n",
      "\n",
      "    FIRST_OCCURRENCE_DATE   LAST_OCCURRENCE_DATE          REPORTED_DATE  \\\n",
      "0   6/15/2016 11:31:00 PM                    NaN  6/15/2016 11:31:00 PM   \n",
      "1  10/11/2017 12:30:00 PM  10/11/2017 4:55:00 PM   1/29/2018 5:53:00 PM   \n",
      "2     3/4/2016 8:00:00 PM   4/25/2016 8:00:00 AM   4/26/2016 9:02:00 PM   \n",
      "3    1/30/2018 7:20:00 PM                    NaN  1/30/2018 10:29:00 PM   \n",
      "4    6/22/2017 8:53:00 PM                    NaN   6/23/2017 4:09:00 PM   \n",
      "\n",
      "      INCIDENT_ADDRESS      GEO_X      GEO_Y     GEO_LON    GEO_LAT  \\\n",
      "0                  NaN  3193983.0  1707251.0 -104.809881  39.773188   \n",
      "1                  NaN  3201943.0  1711852.0 -104.781434  39.785649   \n",
      "2  2932 S JOSEPHINE ST  3152762.0  1667011.0 -104.957381  39.663490   \n",
      "3  705 S COLORADO BLVD  3157162.0  1681320.0 -104.941440  39.702698   \n",
      "4       2810 E 1ST AVE  3153211.0  1686545.0 -104.955370  39.717107   \n",
      "\n",
      "   DISTRICT_ID  PRECINCT_ID             NEIGHBORHOOD_ID  IS_CRIME  IS_TRAFFIC  \n",
      "0            5          521                   montbello         1           0  \n",
      "1            5          522  gateway-green-valley-ranch         1           0  \n",
      "2            3          314                   wellshire         1           0  \n",
      "3            3          312                     belcaro         1           0  \n",
      "4            3          311                cherry-creek         1           0  \n"
     ]
    }
   ],
   "source": [
    "dateDim = pd.read_csv('date_dimension.csv')\n",
    "print(dateDim.head())\n",
    "print(denc.head())"
   ]
  },
  {
   "cell_type": "code",
   "execution_count": null,
   "metadata": {},
   "outputs": [],
   "source": []
  },
  {
   "cell_type": "code",
   "execution_count": null,
   "metadata": {},
   "outputs": [],
   "source": []
  }
 ],
 "metadata": {
  "kernelspec": {
   "display_name": "Python 3",
   "language": "python",
   "name": "python3"
  },
  "language_info": {
   "codemirror_mode": {
    "name": "ipython",
    "version": 3
   },
   "file_extension": ".py",
   "mimetype": "text/x-python",
   "name": "python",
   "nbconvert_exporter": "python",
   "pygments_lexer": "ipython3",
   "version": "3.7.4"
  }
 },
 "nbformat": 4,
 "nbformat_minor": 2
}
